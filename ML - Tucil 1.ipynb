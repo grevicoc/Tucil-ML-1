{
 "cells": [
  {
   "cell_type": "markdown",
   "id": "b36277c4",
   "metadata": {},
   "source": [
    "# Tugas Kecil 1 - Breast Cancer"
   ]
  },
  {
   "cell_type": "markdown",
   "id": "8cb82689",
   "metadata": {},
   "source": [
    "## Import Library dan Datasets yang Dibutuhkan"
   ]
  },
  {
   "cell_type": "code",
   "execution_count": 31,
   "id": "f62a54b6",
   "metadata": {},
   "outputs": [],
   "source": [
    "from sklearn.datasets import load_breast_cancer\n",
    "from sklearn.model_selection import train_test_split\n",
    "\n",
    "from sklearn import tree\n",
    "import six\n",
    "import sys\n",
    "sys.modules['sklearn.externals.six'] = six\n",
    "from id3 import Id3Estimator\n",
    "from sklearn.cluster import KMeans\n",
    "from sklearn.linear_model import LogisticRegression\n",
    "from sklearn.neural_network import MLPClassifier\n",
    "from sklearn.svm import SVC\n",
    "\n",
    "from sklearn import metrics\n",
    "from matplotlib import pyplot as plt\n",
    "from id3 import export_graphviz, export_text"
   ]
  },
  {
   "cell_type": "markdown",
   "id": "445eda08",
   "metadata": {},
   "source": [
    "## Preprocess Train dan Test Data"
   ]
  },
  {
   "cell_type": "code",
   "execution_count": 9,
   "id": "079a914a",
   "metadata": {},
   "outputs": [],
   "source": [
    "#load data\n",
    "breast_cancer = load_breast_cancer()\n",
    "X, y = load_breast_cancer(return_X_y=True)\n",
    "\n",
    "#splitting train and test data\n",
    "X_train, X_test, y_train, y_test = train_test_split(X, y, test_size=0.2, random_state=0)"
   ]
  },
  {
   "cell_type": "markdown",
   "id": "2560e9be",
   "metadata": {},
   "source": [
    "## Train dan Predict Data - Decision Tree"
   ]
  },
  {
   "cell_type": "code",
   "execution_count": 26,
   "id": "fa9b706e",
   "metadata": {},
   "outputs": [
    {
     "name": "stdout",
     "output_type": "stream",
     "text": [
      "Accuracy Score:\n",
      "Tanpa Parameter:\t\t0.9122807017543859\n",
      "Dengan Parameter Max Depth:\t0.9649122807017544\n",
      "\n",
      "F1 Score:\n",
      "Tanpa Parameter:\t\t0.923076923076923\n",
      "Dengan Parameter Max Depth:\t0.9705882352941176\n",
      "\n",
      "Tree Model Tanpa Parameter:\n",
      "|--- worst concave points <= 0.14\n",
      "|   |--- worst area <= 957.45\n",
      "|   |   |--- worst perimeter <= 107.75\n",
      "|   |   |   |--- worst fractal dimension <= 0.06\n",
      "|   |   |   |   |--- class: 0\n",
      "|   |   |   |--- worst fractal dimension >  0.06\n",
      "|   |   |   |   |--- mean concavity <= 0.14\n",
      "|   |   |   |   |   |--- area error <= 48.98\n",
      "|   |   |   |   |   |   |--- smoothness error <= 0.00\n",
      "|   |   |   |   |   |   |   |--- mean texture <= 19.90\n",
      "|   |   |   |   |   |   |   |   |--- class: 1\n",
      "|   |   |   |   |   |   |   |--- mean texture >  19.90\n",
      "|   |   |   |   |   |   |   |   |--- class: 0\n",
      "|   |   |   |   |   |   |--- smoothness error >  0.00\n",
      "|   |   |   |   |   |   |   |--- worst texture <= 32.83\n",
      "|   |   |   |   |   |   |   |   |--- class: 1\n",
      "|   |   |   |   |   |   |   |--- worst texture >  32.83\n",
      "|   |   |   |   |   |   |   |   |--- worst texture <= 33.81\n",
      "|   |   |   |   |   |   |   |   |   |--- class: 0\n",
      "|   |   |   |   |   |   |   |   |--- worst texture >  33.81\n",
      "|   |   |   |   |   |   |   |   |   |--- class: 1\n",
      "|   |   |   |   |   |--- area error >  48.98\n",
      "|   |   |   |   |   |   |--- worst area <= 566.55\n",
      "|   |   |   |   |   |   |   |--- class: 0\n",
      "|   |   |   |   |   |   |--- worst area >  566.55\n",
      "|   |   |   |   |   |   |   |--- class: 1\n",
      "|   |   |   |   |--- mean concavity >  0.14\n",
      "|   |   |   |   |   |--- mean smoothness <= 0.10\n",
      "|   |   |   |   |   |   |--- class: 1\n",
      "|   |   |   |   |   |--- mean smoothness >  0.10\n",
      "|   |   |   |   |   |   |--- class: 0\n",
      "|   |   |--- worst perimeter >  107.75\n",
      "|   |   |   |--- mean perimeter <= 91.92\n",
      "|   |   |   |   |--- class: 0\n",
      "|   |   |   |--- mean perimeter >  91.92\n",
      "|   |   |   |   |--- concave points error <= 0.02\n",
      "|   |   |   |   |   |--- class: 1\n",
      "|   |   |   |   |--- concave points error >  0.02\n",
      "|   |   |   |   |   |--- class: 0\n",
      "|   |--- worst area >  957.45\n",
      "|   |   |--- mean symmetry <= 0.15\n",
      "|   |   |   |--- class: 1\n",
      "|   |   |--- mean symmetry >  0.15\n",
      "|   |   |   |--- class: 0\n",
      "|--- worst concave points >  0.14\n",
      "|   |--- worst area <= 729.55\n",
      "|   |   |--- mean smoothness <= 0.11\n",
      "|   |   |   |--- class: 1\n",
      "|   |   |--- mean smoothness >  0.11\n",
      "|   |   |   |--- class: 0\n",
      "|   |--- worst area >  729.55\n",
      "|   |   |--- area error <= 14.18\n",
      "|   |   |   |--- class: 1\n",
      "|   |   |--- area error >  14.18\n",
      "|   |   |   |--- worst concavity <= 0.20\n",
      "|   |   |   |   |--- class: 1\n",
      "|   |   |   |--- worst concavity >  0.20\n",
      "|   |   |   |   |--- mean texture <= 15.37\n",
      "|   |   |   |   |   |--- fractal dimension error <= 0.00\n",
      "|   |   |   |   |   |   |--- class: 1\n",
      "|   |   |   |   |   |--- fractal dimension error >  0.00\n",
      "|   |   |   |   |   |   |--- class: 0\n",
      "|   |   |   |   |--- mean texture >  15.37\n",
      "|   |   |   |   |   |--- class: 0\n",
      "\n"
     ]
    }
   ],
   "source": [
    "#train data tanpa param tambahan\n",
    "clf = tree.DecisionTreeClassifier(random_state=0)\n",
    "clf_train = clf.fit(X_train, y_train)\n",
    "\n",
    "#train data dengan param tambahan\n",
    "clf_param = tree.DecisionTreeClassifier(max_depth=2, random_state=0)\n",
    "clf_param_train = clf_param.fit(X_train, y_train)\n",
    "\n",
    "#predict Result\n",
    "clf_test = clf_train.predict(X_test)\n",
    "clf_param_test = clf_param_train.predict(X_test)\n",
    "\n",
    "#accuracy Score\n",
    "print(\"Accuracy Score:\")\n",
    "print(\"Tanpa Parameter:\\t\\t\" + str(metrics.accuracy_score(y_test, clf_test)))\n",
    "print(\"Dengan Parameter Max Depth:\\t\" + str(metrics.accuracy_score(y_test, clf_param_test)))\n",
    "\n",
    "print()\n",
    "\n",
    "#f1 Score\n",
    "print(\"F1 Score:\")\n",
    "print(\"Tanpa Parameter:\\t\\t\" + str(metrics.f1_score(y_test, clf_test)))\n",
    "print(\"Dengan Parameter Max Depth:\\t\" + str(metrics.f1_score(y_test, clf_param_test)))\n",
    "\n",
    "print()\n",
    "\n",
    "print(\"Tree Model Tanpa Parameter:\")\n",
    "#Modelling\n",
    "model = tree.export_text(clf_train, feature_names=list(breast_cancer.feature_names))\n",
    "print(model)"
   ]
  },
  {
   "cell_type": "markdown",
   "id": "c9cabaf9",
   "metadata": {},
   "source": [
    "## Pembahasan - Decision Tree"
   ]
  },
  {
   "cell_type": "markdown",
   "id": "b5e64803",
   "metadata": {},
   "source": [
    "Dari hasil percobaan di atas dapat terlihat bahwa penggunaan algoritma Decision Tree cukup baik untuk memprediksi penentuan breast cancer atau tidaknya seseorang. Akurasi yang dicapai berkisar 91-96%, dimana angka ini termasuk cukup tinggi. Namun yang perlu diperhatikan adalah adanya perbedaan nilai antara model decision tree yang didefinisikan max_depth-nya dengan yang tidak. Perbedaannya pun cukup jauh yaitu sekitar 5% (model yang memiliki parameter 96% sedangkan yang tidak hanya 91%). \n",
    "\n",
    "Hipotesa kami, hal ini dikarenakan ketika suatu decision tree tidak definisikan max_depth-nya maka secara otomatis ia akan membuat depth sedalam mungkin berdasarkan hasil di tiap iterasi yang ia lakukan. Berbeda dengan jika max_depth-nya sudah ditentukan ia akan berhenti iterasi ketika max_depth-nya tercapai. Hal ini berpengatuh ketika dilakukan testing karena data testing kita tidak tahu sevariasi apa sehingga depth yang dalam hanya membuat \"syarat\" yang ketat untuk sebuah kasus untuk diklasifikasikan ke kelas apa. Berbeda dengan depth yang tidak terlalu dalam membuat sebuah kasus lebih bebas untuk diklasifikasikan ke kelas apa. Peristiwa ini sering disebut dengan \"overfit\" atau model tree yang dibuat terlalu benar untuk training data namun tidak cukup benar untuk test data."
   ]
  },
  {
   "cell_type": "markdown",
   "id": "66086128",
   "metadata": {},
   "source": [
    "## Train dan Predict Data - ID3Estimator"
   ]
  },
  {
   "cell_type": "code",
   "execution_count": 34,
   "id": "c1382a72",
   "metadata": {},
   "outputs": [
    {
     "name": "stdout",
     "output_type": "stream",
     "text": [
      "Accuracy Score:\n",
      "Tanpa Parameter:\t\t0.9122807017543859\n",
      "Dengan Parameter Gain Ratio:\t0.956140350877193\n",
      "\n",
      "F1 Score:\n",
      "Tanpa Parameter:\t\t0.9242424242424243\n",
      "Dengan Parameter Gain Ratio:\t0.9618320610687023\n",
      "\n",
      "Tree Model Tanpa Parameter:\n",
      "\n",
      "worst concave points <=0.14\n",
      "|   worst perimeter <=107.75\n",
      "|   |   symmetry error <=0.02\n",
      "|   |   |   radius error <=0.55\n",
      "|   |   |   |   worst texture <=29.76: 1 (64) \n",
      "|   |   |   |   worst texture >29.76\n",
      "|   |   |   |   |   mean texture <=23.24\n",
      "|   |   |   |   |   |   mean radius <=12.51: 1 (2) \n",
      "|   |   |   |   |   |   mean radius >12.51\n",
      "|   |   |   |   |   |   |   worst fractal dimension <=0.07: 1 (1) \n",
      "|   |   |   |   |   |   |   worst fractal dimension >0.07: 0 (3) \n",
      "|   |   |   |   |   mean texture >23.24: 1 (8) \n",
      "|   |   |   radius error >0.55: 0 (2) \n",
      "|   |   symmetry error >0.02: 1 (189) \n",
      "|   worst perimeter >107.75\n",
      "|   |   worst texture <=20.22: 1 (11) \n",
      "|   |   worst texture >20.22\n",
      "|   |   |   mean symmetry <=0.15: 1 (3) \n",
      "|   |   |   mean symmetry >0.15\n",
      "|   |   |   |   mean texture <=24.99: 0 (19) \n",
      "|   |   |   |   mean texture >24.99: 1 (1) \n",
      "worst concave points >0.14\n",
      "|   worst perimeter <=112.80\n",
      "|   |   mean texture <=20.30\n",
      "|   |   |   mean smoothness <=0.11\n",
      "|   |   |   |   worst texture <=26.90: 1 (10) \n",
      "|   |   |   |   worst texture >26.90\n",
      "|   |   |   |   |   mean radius <=13.68: 1 (1) \n",
      "|   |   |   |   |   mean radius >13.68: 0 (2) \n",
      "|   |   |   mean smoothness >0.11: 0 (5) \n",
      "|   |   mean texture >20.30: 0 (12) \n",
      "|   worst perimeter >112.80: 0 (122) \n",
      "\n"
     ]
    }
   ],
   "source": [
    "#train data tanpa param tambahan\n",
    "clf = Id3Estimator()\n",
    "clf_train = clf.fit(X_train, y_train)\n",
    "\n",
    "#train data dengan param tambahan\n",
    "clf_param = Id3Estimator(gain_ratio=True)\n",
    "clf_param_train = clf_param.fit(X_train, y_train)\n",
    "\n",
    "#predict Result\n",
    "clf_test = clf_train.predict(X_test)\n",
    "clf_param_test = clf_param_train.predict(X_test)\n",
    "\n",
    "#accuracy Score\n",
    "print(\"Accuracy Score:\")\n",
    "print(\"Tanpa Parameter:\\t\\t\" + str(metrics.accuracy_score(y_test, clf_test)))\n",
    "print(\"Dengan Parameter Gain Ratio:\\t\" + str(metrics.accuracy_score(y_test, clf_param_test)))\n",
    "\n",
    "print()\n",
    "\n",
    "#f1 Score\n",
    "print(\"F1 Score:\")\n",
    "print(\"Tanpa Parameter:\\t\\t\" + str(metrics.f1_score(y_test, clf_test)))\n",
    "print(\"Dengan Parameter Gain Ratio:\\t\" + str(metrics.f1_score(y_test, clf_param_test)))\n",
    "\n",
    "print()\n",
    "\n",
    "print(\"Tree Model Tanpa Parameter:\")\n",
    "#Modelling\n",
    "model = export_text(clf_train.tree_, breast_cancer.feature_names)\n",
    "print(model)"
   ]
  },
  {
   "cell_type": "markdown",
   "id": "e3051fc1",
   "metadata": {},
   "source": [
    "## Pembahasan - ID3Estimator"
   ]
  },
  {
   "cell_type": "markdown",
   "id": "ca368c1b",
   "metadata": {},
   "source": [
    "Sama seperti sebelumnya, algoritma ID3Estimator untuk prediksi di kasus breast cancer ini bekerja cukup baik dengan akurasi sekitar 91-96%. Namun lagi-lagi dengan menambahkan parameter terdapat peningkatan akurasi sekitar 4-5%. Parameter yang ditambahkan adalah penggunaan gain ratio ketika penentuan percabangan. Seperti yang kita ketahui algoritma ID3Estimator ini menggunakan information gain untuk menentukan percabangannya, hanya saja information gain ini terdapat kekurangan ketika menemukan properties yang memiliki sparse value tinggi, seperti tanggal, nama, dll. Nah gain ratio hadir untuk menjawab kekurangan tersebut sehingga hasil perhitungan ID3Estimator pun menjadi lebih tepat. Alasan itu mengapa akurasinya bertambah ketika menggunakan gain ratio dalam modelling treenya."
   ]
  },
  {
   "cell_type": "markdown",
   "id": "b4dc8daa",
   "metadata": {},
   "source": [
    "## Train dan Predict Data - K Means"
   ]
  },
  {
   "cell_type": "code",
   "execution_count": 58,
   "id": "c42d7c14",
   "metadata": {},
   "outputs": [
    {
     "name": "stdout",
     "output_type": "stream",
     "text": [
      "Accuracy Score:\n",
      "Tanpa Parameter:\t\t0.8157894736842105\n",
      "Dengan Parameter n_clusters:\t0.8157894736842105\n",
      "\n",
      "F1 Score:\n",
      "Tanpa Parameter:\t\t0.8645161290322582\n",
      "Dengan Parameter n_clusters:\t0.8645161290322582\n",
      "\n"
     ]
    },
    {
     "data": {
      "image/png": "[encoded data removed]",
      "text/plain": [
       "<Figure size 432x288 with 2 Axes>"
      ]
     },
     "metadata": {
      "needs_background": "light"
     },
     "output_type": "display_data"
    }
   ],
   "source": [
    "#train data tanpa param tambahan\n",
    "clf = KMeans(n_clusters=2, random_state=42)\n",
    "clf_train = clf.fit(X_train, y_train)\n",
    "\n",
    "#train data dengan param tambahan\n",
    "clf_param = KMeans(n_clusters=2, init=\"random\", random_state=42)\n",
    "clf_param_train = clf_param.fit(X_train, y_train)\n",
    "\n",
    "#predict Result\n",
    "clf_test = clf_train.predict(X_test)\n",
    "clf_param_test = clf_param_train.predict(X_test)\n",
    "\n",
    "#accuracy Score\n",
    "print(\"Accuracy Score:\")\n",
    "print(\"Tanpa Parameter:\\t\\t\" + str(metrics.accuracy_score(y_test, clf_test)))\n",
    "print(\"Dengan Parameter init:\\t\" + str(metrics.accuracy_score(y_test, clf_param_test)))\n",
    "\n",
    "print()\n",
    "\n",
    "#f1 Score\n",
    "print(\"F1 Score:\")\n",
    "print(\"Tanpa Parameter:\\t\\t\" + str(metrics.f1_score(y_test, clf_test)))\n",
    "print(\"Dengan Parameter init:\\t\" + str(metrics.f1_score(y_test, clf_param_test)))\n",
    "\n",
    "print()\n",
    "\n",
    "#Modelling\n",
    "output = plt.scatter(X_train[:,0], X_train[:,1], s = 100, c = clf.labels_, marker = 'o', alpha = 1, )\n",
    "centers = clf_train.cluster_centers_\n",
    "plt.scatter(centers[:,0], centers[:,1], c='red', s=200, alpha=1 , marker='o');\n",
    "plt.title(\"Hasil Klustering K-Means Tanpa Parameter\")\n",
    "plt.colorbar (output)\n",
    "plt.show()"
   ]
  },
  {
   "cell_type": "markdown",
   "id": "d1eb46db",
   "metadata": {},
   "source": [
    "## Pembahasan - K Means"
   ]
  },
  {
   "cell_type": "markdown",
   "id": "48f5533a",
   "metadata": {},
   "source": [
    "Dari hasil yang sudah ditampilkan dapat kita cermati bahwa sepertinya algoritma K-Means untuk prediksi kasus breast cancer bekerja tidak semaksimal algoritma-algoritma sebelumnya, dapat diperhatikan bahwa akurasinya hanya menyentuh angka 81%. Penambahan parameter pun tidak merubah hasilnya, walaupun sebenarnya hal ini masih menjadi pertanyaan kami karena menurut dokumentasinya, default untuk parameter init adalah \"k-means++\" tetapi ketika diubah menjadi \"random\" tidak ada perubahan sedikitpun. Parameter init berfungsi untuk menentukan inisiasi centroid ketika melakukan clustering."
   ]
  },
  {
   "cell_type": "markdown",
   "id": "c8bdf4d1",
   "metadata": {},
   "source": [
    "## Train dan Predict Data - Logistic Regression"
   ]
  },
  {
   "cell_type": "code",
   "execution_count": 70,
   "id": "4efceb23",
   "metadata": {},
   "outputs": [
    {
     "name": "stdout",
     "output_type": "stream",
     "text": [
      "Accuracy Score:\n",
      "Tanpa Parameter:\t\t0.9473684210526315\n",
      "Dengan Parameter Solver:\t0.956140350877193\n",
      "\n",
      "F1 Score:\n",
      "Tanpa Parameter:\t\t0.9538461538461538\n",
      "Dengan Parameter Solver:\t0.9618320610687023\n"
     ]
    }
   ],
   "source": [
    "#train data tanpa param tambahan\n",
    "clf = LogisticRegression(random_state=0, max_iter=10000)\n",
    "clf_train = clf.fit(X_train, y_train)\n",
    "\n",
    "#train data dengan param tambahan\n",
    "clf_param = LogisticRegression(solver='liblinear', random_state=0, max_iter=10000)\n",
    "clf_param_train = clf_param.fit(X_train, y_train)\n",
    "\n",
    "#predict Result\n",
    "clf_test = clf_train.predict(X_test)\n",
    "clf_param_test = clf_param_train.predict(X_test)\n",
    "\n",
    "#accuracy Score\n",
    "print(\"Accuracy Score:\")\n",
    "print(\"Tanpa Parameter:\\t\\t\" + str(metrics.accuracy_score(y_test, clf_test)))\n",
    "print(\"Dengan Parameter Solver:\\t\" + str(metrics.accuracy_score(y_test, clf_param_test)))\n",
    "\n",
    "print()\n",
    "\n",
    "#f1 Score\n",
    "print(\"F1 Score:\")\n",
    "print(\"Tanpa Parameter:\\t\\t\" + str(metrics.f1_score(y_test, clf_test)))\n",
    "print(\"Dengan Parameter Solver:\\t\" + str(metrics.f1_score(y_test, clf_param_test)))"
   ]
  },
  {
   "cell_type": "markdown",
   "id": "353b3194",
   "metadata": {},
   "source": [
    "## Pembahasan - Logistic Regression"
   ]
  },
  {
   "cell_type": "markdown",
   "id": "27be1cbd",
   "metadata": {},
   "source": [
    "Algoritma kali ini bekerja dengan cukup baik dengan akurasi mencapai 94-95%. Dapat diperhatikan bahwa perbedaan parameter solver ternyata memberikan hasil akurasi yang berbeda. Peningkatan kecil itu didapatkan ketika menggunakan solver \"liblinear\", hal ini dikarenakan solver default untuk algoritma ini adalah \"lbfgs\" dan solver tersebut ternyata baik digunakan untuk multiclass problem (me-refer dokumentasi LogisticRegression pada spek). Sedangkan \"libliniear\" baik digunakan untuk datasets yang ukurannya tidak terlalu besar. Hal-hal tersebut lah yang sepertinya mengakibatkan perbedaan hasil dan memberikan akurasi yang lebih tinggi untuk solver \"libliniear\"."
   ]
  },
  {
   "cell_type": "markdown",
   "id": "b9dabfbc",
   "metadata": {},
   "source": [
    "## Train dan Predict Data - Neural Network"
   ]
  },
  {
   "cell_type": "code",
   "execution_count": 72,
   "id": "1fa3401c",
   "metadata": {},
   "outputs": [
    {
     "name": "stdout",
     "output_type": "stream",
     "text": [
      "Accuracy Score:\n",
      "Tanpa Parameter:\t\t0.9473684210526315\n",
      "Dengan Parameter Solver:\t0.8771929824561403\n",
      "\n",
      "F1 Score:\n",
      "Tanpa Parameter:\t\t0.9552238805970149\n",
      "Dengan Parameter Solver:\t0.8906250000000001\n"
     ]
    }
   ],
   "source": [
    "#train data tanpa param tambahan\n",
    "clf = MLPClassifier(random_state=0)\n",
    "clf_train = clf.fit(X_train, y_train)\n",
    "\n",
    "#train data dengan param tambahan\n",
    "clf_param = MLPClassifier(solver=\"sgd\", random_state=0)\n",
    "clf_param_train = clf_param.fit(X_train, y_train)\n",
    "\n",
    "#predict Result\n",
    "clf_test = clf_train.predict(X_test)\n",
    "clf_param_test = clf_param_train.predict(X_test)\n",
    "\n",
    "#accuracy Score\n",
    "print(\"Accuracy Score:\")\n",
    "print(\"Tanpa Parameter:\\t\\t\" + str(metrics.accuracy_score(y_test, clf_test)))\n",
    "print(\"Dengan Parameter Solver:\\t\" + str(metrics.accuracy_score(y_test, clf_param_test)))\n",
    "\n",
    "print()\n",
    "\n",
    "#f1 Score\n",
    "print(\"F1 Score:\")\n",
    "print(\"Tanpa Parameter:\\t\\t\" + str(metrics.f1_score(y_test, clf_test)))\n",
    "print(\"Dengan Parameter Solver:\\t\" + str(metrics.f1_score(y_test, clf_param_test)))"
   ]
  },
  {
   "cell_type": "markdown",
   "id": "39d3d63b",
   "metadata": {},
   "source": [
    "## Pembahasan - Neural Network"
   ]
  },
  {
   "cell_type": "markdown",
   "id": "5c2b1fb6",
   "metadata": {},
   "source": [
    "Dari hasil di atas algoritma neural network untuk prediksi kasus breast cancer bekerja cukup baik dengan akurasi 94%, walaupun turun jika ditambahkan parameter solver dengan nilai \"sgd\" atau stochastic gradient descent. Sebenarnya solver default yang digunakan algoritma ini, \"adam\", berbasis solver \"sgd\" juga, hanya saja solver \"adam\" telah dioptimisasi sehingga dalam melakukan weight optimization bekerja secara lebih akurat. Hal itu mengakibatkan tingkat akurasi yang lebih baik dibandingkan dengan \"sgd\" biasa."
   ]
  },
  {
   "cell_type": "markdown",
   "id": "9e7ebe25",
   "metadata": {},
   "source": [
    "## Train dan Predict Data - SVM"
   ]
  },
  {
   "cell_type": "code",
   "execution_count": 75,
   "id": "28ea6fe9",
   "metadata": {},
   "outputs": [
    {
     "name": "stdout",
     "output_type": "stream",
     "text": [
      "Accuracy Score:\n",
      "Tanpa Parameter:\t\t0.9298245614035088\n",
      "Dengan Parameter Solver:\t0.956140350877193\n",
      "\n",
      "F1 Score:\n",
      "Tanpa Parameter:\t\t0.9428571428571428\n",
      "Dengan Parameter Solver:\t0.9618320610687023\n"
     ]
    }
   ],
   "source": [
    "#train data tanpa param tambahan\n",
    "clf = SVC(random_state=0)\n",
    "clf_train = clf.fit(X_train, y_train)\n",
    "\n",
    "#train data dengan param tambahan\n",
    "clf_param = SVC(kernel='linear', random_state=0)\n",
    "clf_param_train = clf_param.fit(X_train, y_train)\n",
    "\n",
    "#predict Result\n",
    "clf_test = clf_train.predict(X_test)\n",
    "clf_param_test = clf_param_train.predict(X_test)\n",
    "\n",
    "#accuracy Score\n",
    "print(\"Accuracy Score:\")\n",
    "print(\"Tanpa Parameter:\\t\\t\" + str(metrics.accuracy_score(y_test, clf_test)))\n",
    "print(\"Dengan Parameter Kernel:\\t\" + str(metrics.accuracy_score(y_test, clf_param_test)))\n",
    "\n",
    "print()\n",
    "\n",
    "#f1 Score\n",
    "print(\"F1 Score:\")\n",
    "print(\"Tanpa Parameter:\\t\\t\" + str(metrics.f1_score(y_test, clf_test)))\n",
    "print(\"Dengan Parameter Kernel:\\t\" + str(metrics.f1_score(y_test, clf_param_test)))"
   ]
  },
  {
   "cell_type": "markdown",
   "id": "2c38f785",
   "metadata": {},
   "source": [
    "## Pembahasan - SVM"
   ]
  },
  {
   "cell_type": "markdown",
   "id": "611879e5",
   "metadata": {},
   "source": [
    "Dari hasil di atas dapat disimpulkan bahwa algoritma SVM bekerja cukup baik untuk kasus prediksi breast_cancer dengan akurasi 92-95%. Dapat diperhatikan bahwa penambahan parameter kernel dapat meningkatkan akurasi. Walaupun penulis code sendiri belum memahami secara penuh apa bedanya kernel yang default dengan yang \"linear\", hanya saja dari dokumentasi yang dibaca hal ini berpengaruh ke dalam pra komputasi kernel matrix ketika mengoperasikan data. Belum diketahui bagaimana pengaruh pengelolaan matriks pra komputasi dapat mempengaruhi kenaikan akurasi."
   ]
  },
  {
   "cell_type": "code",
   "execution_count": null,
   "id": "0fa6ca8d",
   "metadata": {},
   "outputs": [],
   "source": []
  }
 ],
 "metadata": {
  "kernelspec": {
   "display_name": "Python 3 (ipykernel)",
   "language": "python",
   "name": "python3"
  },
  "language_info": {
   "codemirror_mode": {
    "name": "ipython",
    "version": 3
   },
   "file_extension": ".py",
   "mimetype": "text/x-python",
   "name": "python",
   "nbconvert_exporter": "python",
   "pygments_lexer": "ipython3",
   "version": "3.9.6"
  }
 },
 "nbformat": 4,
 "nbformat_minor": 5
}
